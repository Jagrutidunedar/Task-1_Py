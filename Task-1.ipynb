{
 "cells": [
  {
   "cell_type": "raw",
   "id": "70503a84-679e-4bd5-b2d4-3a79ce1c4e3e",
   "metadata": {},
   "source": [
    "1 ) **This is Bold Text**"
   ]
  },
  {
   "cell_type": "markdown",
   "id": "add899c6-277e-4934-bf40-5b797c99d763",
   "metadata": {},
   "source": [
    "**This is Bold Text**"
   ]
  },
  {
   "cell_type": "raw",
   "id": "325552a8-e585-4906-9258-53e1c101ccec",
   "metadata": {},
   "source": [
    "2)  *This is italic Text*"
   ]
  },
  {
   "cell_type": "markdown",
   "id": "c30071ce-d79c-4baa-8522-cdba7da7c7de",
   "metadata": {},
   "source": [
    "*This is italic Text*"
   ]
  },
  {
   "cell_type": "raw",
   "id": "2d97ea4c-b3ab-4844-94de-c5dffa57fe1f",
   "metadata": {},
   "source": [
    "3)  > This is a blockquotes"
   ]
  },
  {
   "cell_type": "markdown",
   "id": "d799e334-d970-4986-9fed-08961c5d2bab",
   "metadata": {},
   "source": [
    "> This is a blockquotes"
   ]
  },
  {
   "cell_type": "raw",
   "id": "b17d8bd9-9696-4bc1-8e29-dbc7e9639332",
   "metadata": {},
   "source": [
    "4)  1. First iteam\n",
    "    2. Second iteam"
   ]
  },
  {
   "cell_type": "markdown",
   "id": "3e35d9be-32e4-4176-9f28-2e73b3f03f93",
   "metadata": {},
   "source": [
    "1. First iteam\n",
    "2. Second iteam"
   ]
  },
  {
   "cell_type": "raw",
   "id": "aecf611d-d26d-4cb5-91db-28e66b68f46b",
   "metadata": {},
   "source": [
    "5)  - Iteam 1\n",
    "    - Iteam 2"
   ]
  },
  {
   "cell_type": "markdown",
   "id": "065cd9df-d75f-4e9c-9744-3e56a609afef",
   "metadata": {},
   "source": [
    "- Iteam 1\n",
    "- Iteam 2"
   ]
  },
  {
   "cell_type": "raw",
   "id": "3cd04ee5-076d-479a-bac3-9d06cfa746a2",
   "metadata": {},
   "source": [
    "6)  Use three ---"
   ]
  },
  {
   "cell_type": "markdown",
   "id": "231e243f-9c1c-40b0-ac95-c4f5838b6cf8",
   "metadata": {},
   "source": [
    "---"
   ]
  },
  {
   "cell_type": "raw",
   "id": "4278a5b3-f510-4f0a-bc34-807f6097884e",
   "metadata": {},
   "source": [
    "7)  Create Table using pipes | and hyphens -"
   ]
  },
  {
   "cell_type": "markdown",
   "id": "a439d9ea-335d-4e8d-96fb-0a6138f1545b",
   "metadata": {},
   "source": [
    "| Header 1 | Header 2 | Header 3 |\n",
    "|----------|----------|----------|\n",
    "| Row 1    | Value 1  | Value 1  |\n",
    "|----------|----------|----------|\n",
    "| Row 2    | Value 2  | Value 2  |"
   ]
  },
  {
   "cell_type": "code",
   "execution_count": null,
   "id": "69305c84-5cf5-4b5a-af6f-ab1452980685",
   "metadata": {},
   "outputs": [],
   "source": [
    "8) Display Code With Syntax Highlighty"
   ]
  },
  {
   "cell_type": "markdown",
   "id": "fae8f3b0-673b-4113-ac05-3f07752ef4fa",
   "metadata": {},
   "source": [
    "```python\n",
    "print (\"hello,world\")"
   ]
  },
  {
   "cell_type": "code",
   "execution_count": null,
   "id": "6dd242d8-dfff-44ef-9975-edf3f7a3fd37",
   "metadata": {},
   "outputs": [],
   "source": [
    "9) use heading to seprate a section in a notebook"
   ]
  },
  {
   "cell_type": "markdown",
   "id": "3a0f0ac8-d531-4674-9328-83607aa089df",
   "metadata": {},
   "source": [
    "# section 1 : Introduction\n",
    "## Section 1 .1 : Subsectionn"
   ]
  },
  {
   "cell_type": "raw",
   "id": "5753465c-f254-4b08-8c41-814c4f8e4db1",
   "metadata": {},
   "source": [
    "10) Displaying Greek letters using $$\\alpha, \\beta, \\gamma, \\delta$$"
   ]
  },
  {
   "cell_type": "markdown",
   "id": "ff14da14-3ce4-4c93-a052-3e0169e3cd0e",
   "metadata": {},
   "source": [
    "$$\\alpha, \\beta, \\gamma, \\delta$$"
   ]
  },
  {
   "cell_type": "markdown",
   "id": "304b8cd4-2414-45ae-bd46-20e651927b38",
   "metadata": {},
   "source": [
    "11) Show fraction using LATEX"
   ]
  },
  {
   "cell_type": "markdown",
   "id": "35ad2795-7611-4831-9e68-f3c164a2554a",
   "metadata": {},
   "source": [
    " $$\\fraction{a}{b}$$"
   ]
  },
  {
   "cell_type": "markdown",
   "id": "34b9280d-7b04-4f9e-b618-9f7c9309443c",
   "metadata": {},
   "source": [
    "12) Nested List"
   ]
  },
  {
   "cell_type": "markdown",
   "id": "aa086c51-a562-4c78-8c1a-edb230c1021c",
   "metadata": {},
   "source": [
    "-Iteam 1\n",
    " -suniteam 1\n",
    " -subiteam 2"
   ]
  },
  {
   "cell_type": "markdown",
   "id": "aeed2983-9b35-43d7-a45a-27ff241c985a",
   "metadata": {},
   "source": [
    "13) Math Equations"
   ]
  },
  {
   "cell_type": "markdown",
   "id": "8b0c3c2e-5311-4f77-a0ad-17c90a94c052",
   "metadata": {},
   "source": [
    "$E=mc^2$"
   ]
  },
  {
   "cell_type": "raw",
   "id": "79bc178a-0bbd-42b5-9165-5f0034087953",
   "metadata": {},
   "source": [
    "14) Math Block"
   ]
  },
  {
   "cell_type": "markdown",
   "id": "98b6de04-b3c4-4cac-a5f4-2e69d9b463db",
   "metadata": {},
   "source": [
    "$$E=mc^2$$"
   ]
  },
  {
   "cell_type": "code",
   "execution_count": null,
   "id": "b739436e-0480-4381-a1b5-c530a6f2af11",
   "metadata": {},
   "outputs": [],
   "source": [
    "15) Nested Blockquote"
   ]
  },
  {
   "cell_type": "markdown",
   "id": "a64bc6c4-3374-4a46-8e10-9b6a251db19c",
   "metadata": {},
   "source": [
    "> outer blockquote\n",
    ">> Nested blockquote"
   ]
  },
  {
   "cell_type": "raw",
   "id": "760131ec-def9-467c-a735-2a9431b1af52",
   "metadata": {},
   "source": [
    "16) Superscript and Subscript"
   ]
  },
  {
   "cell_type": "markdown",
   "id": "564d376f-6d2d-4d24-879d-516794f5178c",
   "metadata": {},
   "source": [
    "X^2^(superscript)\n",
    "H~2~0(subscript)\n"
   ]
  },
  {
   "cell_type": "code",
   "execution_count": null,
   "id": "87678776-8566-40f1-a68b-a2df021b8e69",
   "metadata": {},
   "outputs": [],
   "source": []
  }
 ],
 "metadata": {
  "kernelspec": {
   "display_name": "Python 3 (ipykernel)",
   "language": "python",
   "name": "python3"
  },
  "language_info": {
   "codemirror_mode": {
    "name": "ipython",
    "version": 3
   },
   "file_extension": ".py",
   "mimetype": "text/x-python",
   "name": "python",
   "nbconvert_exporter": "python",
   "pygments_lexer": "ipython3",
   "version": "3.12.4"
  }
 },
 "nbformat": 4,
 "nbformat_minor": 5
}
